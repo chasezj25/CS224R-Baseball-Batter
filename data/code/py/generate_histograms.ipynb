{
 "cells": [
  {
   "cell_type": "code",
   "execution_count": null,
   "metadata": {},
   "outputs": [],
   "source": [
    "import os, shutil, sys\n",
    "import pandas as pd\n",
    "import numpy as np\n",
    "import matplotlib.pyplot as plt\n",
    "import matplotlib.image as image\n",
    "\n",
    "plt.rcParams.update({'font.size': 14, 'font.family': 'gotham'})\n",
    "\n",
    "root_path = r\"C:\\Users\\kylew\\Documents\\GitHub\\openbiomechanics\\baseball_hitting\"\n",
    "\n",
    "dl_orange = os.environ['DL_ORANGE_HEX']\n",
    "dl_blue = os.environ['DL_BLUE_HEX']\n",
    "dl_grey = os.environ['DL_GREY_HEX']\n",
    "image_path = os.path.join(root_path, \"imgs\")\n",
    "\n",
    "f = r\"Y:\\departments\\research_and_development\\sports_science\\01_mocap_operations\\supporting_files\\images\\preview-logo-driveline-baseball_logo_full__black.png\"\n",
    "img = image.imread(f)\n",
    "imgx = img.shape[0]\n",
    "imgy = img.shape[1]"
   ]
  },
  {
   "cell_type": "code",
   "execution_count": null,
   "metadata": {},
   "outputs": [],
   "source": [
    "d = pd.read_csv(r\"C:\\Users\\kylew\\Documents\\GitHub\\openbiomechanics\\baseball_hitting\\data\\metadata.csv\")\n",
    "# d.head()"
   ]
  },
  {
   "cell_type": "code",
   "execution_count": null,
   "metadata": {},
   "outputs": [],
   "source": [
    "fig = plt.figure(figsize=(10,7.5), facecolor='w')\n",
    "ax = fig.add_subplot(111)\n",
    "ax.hist(d['exit_velo_mph_x'], bins=20, color=dl_grey, edgecolor='k')\n",
    "ax.set_xlabel('Exit Velocity (mph)')\n",
    "ax.set_ylabel('Count')\n",
    "ax.set_title('Exit Velocity Distribution')\n",
    "nx = int(fig.get_figwidth()*fig.dpi)\n",
    "ny = int(fig.get_figheight()*fig.dpi)\n",
    "fig.figimage(img, xo=nx/4-imgx/2, yo=ny/2-imgy/4, alpha=.10) # no idea how those xo and yo coordinates work\n",
    "plt.savefig(os.path.join(image_path, \"exit_velo_distribution.png\"), bbox_inches='tight')"
   ]
  },
  {
   "cell_type": "code",
   "execution_count": null,
   "metadata": {},
   "outputs": [],
   "source": [
    "fig = plt.figure(figsize=(10,7.5), facecolor='w')\n",
    "ax = fig.add_subplot(111)\n",
    "d_grouped = d.groupby('session').first()\n",
    "ax.bar(d_grouped['highest_playing_level'].value_counts().index, d_grouped['highest_playing_level'].value_counts().values, color=dl_grey, edgecolor='k')\n",
    "ax.set_xlabel('Playing Level')\n",
    "ax.set_ylabel('Count')\n",
    "ax.set_title('Playing Level Distribution')\n",
    "nx = int(fig.get_figwidth()*fig.dpi)\n",
    "ny = int(fig.get_figheight()*fig.dpi)\n",
    "fig.figimage(img, xo=nx/4-imgx/2, yo=ny/2-imgy/4, alpha=.10) # no idea how those xo and yo coordinates work\n",
    "plt.savefig(os.path.join(image_path, \"playing_level_distribution.png\"), bbox_inches='tight')"
   ]
  }
 ],
 "metadata": {
  "kernelspec": {
   "display_name": "base",
   "language": "python",
   "name": "python3"
  },
  "language_info": {
   "codemirror_mode": {
    "name": "ipython",
    "version": 3
   },
   "file_extension": ".py",
   "mimetype": "text/x-python",
   "name": "python",
   "nbconvert_exporter": "python",
   "pygments_lexer": "ipython3",
   "version": "3.8.8 (default, Feb 24 2021, 15:54:32) [MSC v.1928 64 bit (AMD64)]"
  },
  "orig_nbformat": 4,
  "vscode": {
   "interpreter": {
    "hash": "f9e2bd19b3dea8f1fa2a3c55ad93bed0a40f5bf62b4a251cf12ddb11242bb49f"
   }
  }
 },
 "nbformat": 4,
 "nbformat_minor": 2
}
