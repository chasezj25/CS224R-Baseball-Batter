{
 "cells": [
  {
   "cell_type": "code",
   "execution_count": null,
   "metadata": {},
   "outputs": [],
   "source": [
    "import os, shutil, sys\n",
    "import pandas as pd\n",
    "import numpy as np\n",
    "import mysql.connector\n",
    "from sqlalchemy import create_engine\n",
    "import matplotlib.pyplot as plt\n",
    "#####\n",
    "SAMPLE_SIZE = 100\n",
    "new_names, new_model_names = [], []\n",
    "sample_sessions = []\n",
    "PATH_C3D_START = r\"Y:\\departments\\research_and_development\\sports_science\\01_mocap_operations\\hitting\\v1\\03_athletes\"\n",
    "PATH_C3D_COPY = r\"C:\\Users\\kylew\\Documents\\GitHub\\openbiomechanics\\baseball_hitting\\data\\c3d\"\n",
    "PATH_META_SAVE = r\"C:\\Users\\kylew\\Documents\\GitHub\\openbiomechanics\\baseball_hitting\\data\"\n",
    "PATH_POI_SAVE = r\"C:\\Users\\kylew\\Documents\\GitHub\\openbiomechanics\\baseball_hitting\\data\\poi\"\n",
    "PATH_FULL_SIG_SAVE = r\"C:\\Users\\kylew\\Documents\\GitHub\\openbiomechanics\\baseball_hitting\\data\\full_sig\"\n",
    "SAVE_META_CSV = True\n",
    "####################### Connect to DB ######################\n",
    "db_user_ = os.environ['CLUSTER_USERNAME_DB_BIOMECH']\n",
    "db_pw_ = os.environ['CLUSTER_PASSWORD_DB_BIOMECH']\n",
    "# db_dbname_ = os.environ['DATABASE_BIOMECH_PITCHING_DB']\n",
    "db_dbname_ = 'biomech_hitting_db'\n",
    "db_host_ = os.environ['CLUSTER_HOST_DB_BIOMECH']\n",
    "db_port_ = os.environ['CLUSTER_PORT_DB_BIOMECH']\n",
    "engine_string = 'mysql+mysqlconnector://'+db_user_ +':'+db_pw_+'@'+db_host_+':'+str(db_port_)+'/'+db_dbname_\n",
    "engine = create_engine(engine_string,connect_args={'auth_plugin': 'mysql_native_password'}, echo=False)\n",
    "\n",
    "#Get Data from Biomech DB\n",
    "cnx = mysql.connector.connect(host=db_host_,\n",
    "                                         database=db_dbname_,\n",
    "                                         user=db_user_,\n",
    "                                         password=db_pw_,\n",
    "                                         port =db_port_,\n",
    "                                         auth_plugin='mysql_native_password')\n",
    "\n",
    "cursor = cnx.cursor()"
   ]
  },
  {
   "cell_type": "code",
   "execution_count": null,
   "metadata": {},
   "outputs": [],
   "source": [
    "query = 'select distinct session_swing from bh_force_plate where rear_force_x is not null;'\n",
    "d = pd.read_sql(query, cnx)\n",
    "force_plate_swings = tuple(pd.unique(d.session_swing))"
   ]
  },
  {
   "cell_type": "code",
   "execution_count": null,
   "metadata": {},
   "outputs": [],
   "source": [
    "query = \"select u.user, s.session, poi.session_swing, s.session_mass_lbs, s.session_height_in, poi.bat_speed_mph_max_x from bh_sessions s left join bh_poi_metrics poi using(session) left join bh_users u using(user) where (s.irb=1) and (s.highest_playing_level not in ('mlb', 'other')) and (poi.session_swing in {});\"\n",
    "# query = \"select u.user, s.session, poi.session_swing, s.session_mass_lbs, s.session_height_in, poi.bat_speed_mph_max_x from bh_sessions s left join bh_poi_metrics poi using(session) left join bh_users u using(user) where (s.irb=1) and (s.highest_playing_level not in ('other')) and (poi.session_swing in {});\"\n",
    "d = pd.read_sql(query.format(force_plate_swings), cnx)\n",
    "users = pd.unique(d.user).tolist()\n",
    "print(len(users))\n",
    "# sample_users = np.random.choice(users, SAMPLE_SIZE, replace=False)\n",
    "sample_users = users"
   ]
  },
  {
   "cell_type": "code",
   "execution_count": null,
   "metadata": {},
   "outputs": [],
   "source": [
    "for user in sample_users:\n",
    "# for user in users:\n",
    "    user_sessions = d[d.user==user].session.tolist()\n",
    "    # pick one session\n",
    "    session = np.random.choice(user_sessions, 1)[0]\n",
    "    sample_sessions.append(session)\n",
    "sample_sessions = tuple(sample_sessions)"
   ]
  },
  {
   "cell_type": "code",
   "execution_count": null,
   "metadata": {},
   "outputs": [],
   "source": [
    "query = \"select s.*, poi.session_swing, poi.blast_bat_speed_mph_x, poi.bat_speed_mph_max_x, poi.exit_velo_mph_x, u.subject_traq from bh_sessions s left join bh_poi_metrics poi using(session) left join bh_users u using(user) where (s.session in {});\"\n",
    "d1 = pd.read_sql(query.format(sample_sessions), cnx)\n",
    "# d1['session_date'] = pd.to_datetime(d1['session_date'])\n",
    "# d1['date_of_birth'] = pd.to_datetime(d1['date_of_birth'])\n",
    "# d1['age_yrs'] = d1['session_date'] - d1['date_of_birth']\n",
    "# d1['age_yrs'] = np.round(d1['age_yrs'].apply(lambda x: x.days/365.25),2)\n",
    "d1 = d1[['user', 'subject_traq', 'session', 'session_swing', 'session_mass_lbs', 'session_height_in', 'athlete_age', 'highest_playing_level', 'hitter_side', 'bat_weight_oz', 'bat_length_in', 'bat_speed_mph_max_x', 'blast_bat_speed_mph_x', 'exit_velo_mph_x']]"
   ]
  },
  {
   "cell_type": "code",
   "execution_count": null,
   "metadata": {},
   "outputs": [],
   "source": [
    "query = \"select u.user, s.session, pos.session_swing, pos.filename FROM raw_bh_positions pos left join bh_poi_metrics poi using(session_swing) left join bh_sessions s on(s.SESSION=pos.session) left join bh_users u ON (s.user=u.user) where (s.session in {});\"\n",
    "d2 = pd.read_sql(query.format(sample_sessions), cnx)\n",
    "d2['user'] = d2['user'].astype(str).apply(lambda x: x.zfill(6))\n",
    "d2['session'] = d2['session'].astype(str).apply(lambda x: x.zfill(6))\n",
    "modelnames = d2['filename'].apply(lambda x: '_'.join(x.split('_')[0:3]) + '_model.c3d')\n",
    "d2['modelnames'] = modelnames\n",
    "d2['filename_stem'] = d2['filename'].apply(lambda x: '_'.join(x.split('_')[:3]))\n",
    "\n",
    "# join d1 and d2 on session_pitch\n",
    "d = d1.merge(d2, on=['session_swing'], how='left')\n",
    "d.drop(columns=['session_x', 'user_x'], inplace=True)\n",
    "d.rename(columns={'session_y': 'session', 'user_y':'user'}, inplace=True)\n",
    "d.filename = d.filename.apply(lambda x: x.replace('.json', '.c3d'))\n",
    "sample_session_swings = tuple(d.session_swing.tolist())"
   ]
  },
  {
   "cell_type": "code",
   "execution_count": null,
   "metadata": {},
   "outputs": [],
   "source": [
    "d.head()"
   ]
  },
  {
   "cell_type": "code",
   "execution_count": null,
   "metadata": {},
   "outputs": [],
   "source": [
    "for root, dirs, files in os.walk(PATH_C3D_START):\n",
    "    for file in files:\n",
    "        if file.endswith('.c3d'):\n",
    "            y_drive_stem = file.split('.')[0]\n",
    "            y_drive_stem = '_'.join(y_drive_stem.split('_')[0:3])\n",
    "            if y_drive_stem in d['filename_stem'].values:\n",
    "                uscore_count = file.count('_')\n",
    "                if uscore_count <= 4: # if it's a model file\n",
    "                    model_path = os.path.join(root, file)\n",
    "                    model_stem = '_'.join(file.split('_')[0:3])\n",
    "                    user_id = d2.loc[d2['filename_stem']==model_stem, 'user'].iloc[0]\n",
    "                    session = d2.loc[d2['filename_stem']==model_stem, 'session'].iloc[0]\n",
    "                    # swing = d2.loc[d2['filename_stem']==model_stem, 'session_swing'].split('_')[-1].zfill(3)\n",
    "                    new_model_name = '_'.join([user_id, session, 'model.c3d'])\n",
    "                    new_model_path = os.path.join(PATH_C3D_COPY, user_id)\n",
    "                    if not os.path.exists(new_model_path):\n",
    "                        os.makedirs(new_model_path)\n",
    "                    new_model_path = os.path.join(new_model_path, new_model_name)\n",
    "                    print('copying {} to {}'.format(file, new_model_path))\n",
    "                    shutil.copyfile(model_path, new_model_path)\n",
    "                elif uscore_count == 6: # if it's a swing file before handedness was added to filename\n",
    "                    old_path = os.path.join(root, file)\n",
    "                    height = file.split('_')[3]\n",
    "                    weight = file.split('_')[4]\n",
    "                    swing_num = file.split('_')[5]\n",
    "                    exit_velo = file.split('_')[6]\n",
    "                    file_stem = '_'.join(file.split('_')[0:3])\n",
    "                    user_id = d.loc[d['filename_stem']==file_stem, 'user'].iloc[0]\n",
    "                    session = d.loc[d['filename_stem']==file_stem, 'session'].iloc[0]\n",
    "                    hitter_side = d.loc[d['filename_stem']==file_stem, 'hitter_side'].iloc[0]\n",
    "                    new_filename = '_'.join([user_id, session, height, weight, hitter_side, swing_num, exit_velo])\n",
    "                    # print('uscore = 6: ', new_filename)\n",
    "                    if not os.path.exists(os.path.join(PATH_C3D_COPY, user_id)):\n",
    "                        os.makedirs(os.path.join(PATH_C3D_COPY, user_id))\n",
    "                    shutil.copyfile(old_path, os.path.join(PATH_C3D_COPY, user_id, new_filename))\n",
    "                elif uscore_count == 7: # if it's a swing file after handedness was added to filename\n",
    "                    old_path = os.path.join(root, file)\n",
    "                    height = file.split('_')[3]\n",
    "                    weight = file.split('_')[4]\n",
    "                    hitter_side = file.split('_')[5]\n",
    "                    swing_num = file.split('_')[6]\n",
    "                    exit_velo = file.split('_')[7]\n",
    "                    file_stem = '_'.join(file.split('_')[0:3])\n",
    "                    user_id = d2.loc[d2['filename_stem']==file_stem, 'user'].iloc[0]\n",
    "                    session = d2.loc[d2['filename_stem']==file_stem, 'session'].iloc[0]\n",
    "                    new_filename = '_'.join([user_id, session, height, weight, hitter_side, swing_num, exit_velo])\n",
    "                    new_filename = new_filename.replace('left', 'L').replace('right', 'R')\n",
    "                    # print('uscore = 7: ', new_filename)\n",
    "                    if not os.path.exists(os.path.join(PATH_C3D_COPY, user_id)):\n",
    "                        os.makedirs(os.path.join(PATH_C3D_COPY, user_id))\n",
    "                    shutil.copyfile(old_path, os.path.join(PATH_C3D_COPY, user_id, new_filename))\n",
    "\n"
   ]
  },
  {
   "cell_type": "code",
   "execution_count": null,
   "metadata": {},
   "outputs": [],
   "source": [
    "d.head()"
   ]
  },
  {
   "cell_type": "code",
   "execution_count": null,
   "metadata": {},
   "outputs": [],
   "source": [
    "if SAVE_META_CSV:\n",
    "    d.drop(columns=['subject_traq', 'filename', 'modelnames', 'filename_stem']).to_csv(os.path.join(PATH_META_SAVE, \"metadata.csv\"), index=False)"
   ]
  },
  {
   "cell_type": "code",
   "execution_count": null,
   "metadata": {},
   "outputs": [],
   "source": [
    "# plt.rcParams.update({'font.family': 'gotham'})\n",
    "# fig = plt.figure(figsize=(10,12.5), facecolor='w')\n",
    "# # add subplots\n",
    "# ax0 = fig.add_subplot(311)\n",
    "# ax1 = fig.add_subplot(312)\n",
    "# ax2 = fig.add_subplot(313)\n",
    "\n",
    "# # plot data\n",
    "# ax0.hist(d.mass_lbs)\n",
    "# ax0.set_xlabel('Mass (lbs)')\n",
    "# ax0.set_ylabel('Count')\n",
    "\n",
    "# ax1.hist(d.height_in)\n",
    "# ax1.set_xlabel('Height (in)')\n",
    "# ax1.set_ylabel('Count')\n",
    "\n",
    "# ax2.hist(d.velo)\n",
    "# ax2.set_xlabel('Pitch Speed (mph)')\n",
    "# ax2.set_ylabel('Count')"
   ]
  },
  {
   "cell_type": "code",
   "execution_count": null,
   "metadata": {},
   "outputs": [],
   "source": [
    "d = pd.read_csv(os.path.join(PATH_META_SAVE, 'metadata.csv'))\n",
    "sample_session_swings = tuple(d.session_swing.tolist())"
   ]
  },
  {
   "cell_type": "code",
   "execution_count": null,
   "metadata": {},
   "outputs": [],
   "source": [
    "# save force plate full signal data from session_pitches\n",
    "query = \"\"\"\n",
    "\n",
    "SELECT \n",
    "\n",
    "fp.session_swing, \n",
    "fp.time, \n",
    "fp.rear_force_x, \n",
    "fp.rear_force_y, \n",
    "fp.rear_force_z,\n",
    "fp.lead_force_x,\n",
    "fp.lead_force_y,\n",
    "fp.lead_force_z,\n",
    "e.fp_force_plate_10perc_time as fp_10_time,\n",
    "e.fp_force_plate_100perc_time as fp_100_time,\n",
    "e.contact_time\n",
    "\n",
    "FROM bh_force_plate fp \n",
    "LEFT JOIN bh_events e using(session_swing) \n",
    "\n",
    "WHERE session_swing in {};\"\"\".format(sample_session_swings)\n",
    "\n",
    "force_plate_data = pd.read_sql(query, cnx)\n",
    "force_plate_data.to_csv(os.path.join(PATH_FULL_SIG_SAVE, 'force_plate.csv'), index=False)"
   ]
  },
  {
   "cell_type": "code",
   "execution_count": null,
   "metadata": {},
   "outputs": [],
   "source": [
    "# query = \"\"\"\n",
    "\n",
    "# SELECT \n",
    "\n",
    "# ef.*, \n",
    "# e.pkh_time, \n",
    "# e.fp_force_plates_time_10perc as fp_10_time,\n",
    "# e.fp_force_plates_time_100perc as fp_100_time\n",
    "\n",
    "# FROM bh_energy_flow ef \n",
    "# LEFT JOIN bh_events e using(session_pitch) \n",
    "\n",
    "# WHERE session_pitch in {};\"\"\".format(sample_session_swings)\n",
    "\n",
    "# energy_flow_data = pd.read_sql(query, cnx)\n",
    "# energy_flow_data.drop(columns=['session_pitch_time'], inplace=True)\n",
    "# energy_flow_data.drop(columns=[x for x in energy_flow_data.columns if 'total' in x], inplace=True)\n",
    "# energy_flow_data.to_csv(os.path.join(PATH_FULL_SIG_SAVE, 'energy_flow.csv'), index=False)"
   ]
  },
  {
   "cell_type": "code",
   "execution_count": null,
   "metadata": {},
   "outputs": [],
   "source": [
    "# query = \"\"\"\n",
    "\n",
    "# SELECT \n",
    "\n",
    "# jm.*, \n",
    "# jf.*, \n",
    "# e.fp_force_plate_10perc_time as fp_10_time,\n",
    "# e.fp_force_plate_100perc_time as fp_100_time,\n",
    "# e.contact_time\n",
    "\n",
    "# FROM bp_joint_forces jf \n",
    "# LEFT JOIN bp_joint_moments jm USING(session_pitch_time)\n",
    "# LEFT JOIN bp_events e ON(jm.session_pitch=e.session_pitch)\n",
    "\n",
    "# WHERE jm.session_pitch in {};\"\"\".format(sample_session_swings)\n",
    "\n",
    "# forces_moments = pd.read_sql(query, cnx)\n",
    "# forces_moments.drop(columns=['session_pitch_time'], inplace=True)\n",
    "# forces_moments.iloc[:, 50:52] = np.nan\n",
    "# forces_moments.dropna(axis=1, how='all', inplace=True)\n",
    "# forces_moments.to_csv(os.path.join(PATH_FULL_SIG_SAVE, 'forces_moments.csv'), index=False)"
   ]
  },
  {
   "cell_type": "code",
   "execution_count": null,
   "metadata": {},
   "outputs": [],
   "source": [
    "query = \"\"\"\n",
    "\n",
    "SELECT\n",
    "\n",
    "ja.*,\n",
    "e.fp_force_plate_10perc_time as fp_10_time,\n",
    "e.fp_force_plate_100perc_time as fp_100_time,\n",
    "e.contact_time\n",
    "\n",
    "FROM bh_joint_angles ja \n",
    "LEFT JOIN bh_events e using(session_swing)\n",
    "\n",
    "WHERE session_swing in {};\"\"\".format(sample_session_swings)\n",
    "\n",
    "joint_angles = pd.read_sql(query, cnx)\n",
    "joint_angles.drop(columns=['session_swing_time'], inplace=True)\n",
    "joint_angles.drop(columns=[x for x in joint_angles.columns if 'virtual_lab' in x], inplace=True)\n",
    "joint_angles.to_csv(os.path.join(PATH_FULL_SIG_SAVE, 'joint_angles.csv'), index=False)\n"
   ]
  },
  {
   "cell_type": "code",
   "execution_count": null,
   "metadata": {},
   "outputs": [],
   "source": [
    "query = \"\"\"\n",
    "\n",
    "SELECT\n",
    "\n",
    "jv.*,\n",
    "e.fp_force_plate_10perc_time as fp_10_time,\n",
    "e.fp_force_plate_100perc_time as fp_100_time,\n",
    "e.contact_time\n",
    "\n",
    "FROM bh_joint_velos jv \n",
    "LEFT JOIN bh_events e using(session_swing)\n",
    "\n",
    "WHERE session_swing in {};\"\"\".format(sample_session_swings)\n",
    "\n",
    "joint_velos = pd.read_sql(query, cnx)\n",
    "joint_velos.drop(columns=['session_swing_time'], inplace=True)\n",
    "joint_velos.drop(columns=[x for x in joint_velos.columns if 'sig_mag' in x], inplace=True)\n",
    "joint_velos.to_csv(os.path.join(PATH_FULL_SIG_SAVE, 'joint_velos.csv'), index=False)"
   ]
  },
  {
   "cell_type": "code",
   "execution_count": null,
   "metadata": {},
   "outputs": [],
   "source": [
    "query = \"\"\"\n",
    "\n",
    "SELECT\n",
    "\n",
    "lm.*,\n",
    "e.fp_force_plate_10perc_time as fp_10_time,\n",
    "e.fp_force_plate_100perc_time as fp_100_time,\n",
    "e.contact_time\n",
    "\n",
    "FROM bh_landmarks lm \n",
    "LEFT JOIN bh_events e using(session_swing) \n",
    "\n",
    "WHERE session_swing in {};\"\"\".format(sample_session_swings)\n",
    "\n",
    "landmarks = pd.read_sql(query, cnx)\n",
    "landmarks.drop(columns=['session_swing_time'], inplace=True)\n",
    "landmarks.drop(columns=[x for x in landmarks.columns if '_velo_' in x], inplace=True)\n",
    "landmarks.to_csv(os.path.join(PATH_FULL_SIG_SAVE, 'landmarks.csv'), index=False)"
   ]
  },
  {
   "cell_type": "code",
   "execution_count": null,
   "metadata": {},
   "outputs": [],
   "source": [
    "query = \"select * from bh_poi_metrics where session_swing in {};\".format(sample_session_swings)\n",
    "poi_metrics = pd.read_sql(query, cnx)\n",
    "poi_metrics.drop(columns=['height_x', 'mass_x'], inplace=True)\n",
    "poi_metrics.to_csv(os.path.join(PATH_POI_SAVE, 'poi_metrics.csv'), index=False)"
   ]
  },
  {
   "cell_type": "code",
   "execution_count": null,
   "metadata": {},
   "outputs": [],
   "source": [
    "query = \"\"\"\n",
    "\n",
    "SELECT\n",
    "\n",
    "ht.session_swing,\n",
    "ht.pitch,\n",
    "ht.strike_zone,\n",
    "ht.la,\n",
    "ht.dist,\n",
    "ht.res,\n",
    "ht.bearing,\n",
    "ht.vertical_distance,\n",
    "ht.horizontal_distance,\n",
    "ht.poi_x,\n",
    "ht.poi_y,\n",
    "ht.poi_z,\n",
    "ht.pitch_angle\n",
    "\n",
    "FROM bh_hittrax ht\n",
    "\n",
    "where session_swing in {};\"\"\".format(sample_session_swings)\n",
    "\n",
    "hittrax = pd.read_sql(query, cnx)\n",
    "hittrax.to_csv(os.path.join(PATH_POI_SAVE, 'hittrax.csv'), index=False)"
   ]
  }
 ],
 "metadata": {
  "kernelspec": {
   "display_name": "Python 3.8.5 ('v6_pitching_db')",
   "language": "python",
   "name": "python3"
  },
  "language_info": {
   "codemirror_mode": {
    "name": "ipython",
    "version": 3
   },
   "file_extension": ".py",
   "mimetype": "text/x-python",
   "name": "python",
   "nbconvert_exporter": "python",
   "pygments_lexer": "ipython3",
   "version": "3.8.5"
  },
  "orig_nbformat": 4,
  "vscode": {
   "interpreter": {
    "hash": "9d8a1536e469015d6bcd2696b378bfb01af892c1c6c53cf17a19284ec97cdbf9"
   }
  }
 },
 "nbformat": 4,
 "nbformat_minor": 2
}
